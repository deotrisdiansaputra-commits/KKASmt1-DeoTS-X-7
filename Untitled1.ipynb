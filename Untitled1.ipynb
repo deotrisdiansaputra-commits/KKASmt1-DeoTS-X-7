{
  "nbformat": 4,
  "nbformat_minor": 0,
  "metadata": {
    "colab": {
      "provenance": [],
      "authorship_tag": "ABX9TyMwFOS7scTgAJDibSyV/Pod",
      "include_colab_link": true
    },
    "kernelspec": {
      "name": "python3",
      "display_name": "Python 3"
    },
    "language_info": {
      "name": "python"
    }
  },
  "cells": [
    {
      "cell_type": "markdown",
      "metadata": {
        "id": "view-in-github",
        "colab_type": "text"
      },
      "source": [
        "<a href=\"https://colab.research.google.com/github/deotrisdiansaputra-commits/KKASmt1-DeoTS-X-7/blob/main/Untitled1.ipynb\" target=\"_parent\"><img src=\"https://colab.research.google.com/assets/colab-badge.svg\" alt=\"Open In Colab\"/></a>"
      ]
    },
    {
      "cell_type": "code",
      "execution_count": null,
      "metadata": {
        "id": "nkOAe3IQQbqZ",
        "colab": {
          "base_uri": "https://localhost:8080/"
        },
        "outputId": "7b8b423e-17ff-4a27-c7a4-c6a8a2a38559"
      },
      "outputs": [
        {
          "output_type": "stream",
          "name": "stdout",
          "text": [
            "harga telur adalah 26000 per kilogram\n",
            "nama pembeli telur adalah Deo\n"
          ]
        }
      ],
      "source": [
        "harga_telur = 26000\n",
        "nama_pembeli = \"Deo\"\n",
        "\n",
        "print(\"harga telur adalah\" ,harga_telur, \"per kilogram\")\n",
        "print(\"nama pembeli telur adalah\",nama_pembeli)"
      ]
    },
    {
      "cell_type": "markdown",
      "source": [
        "#Escape Character"
      ],
      "metadata": {
        "id": "BVbVMAIGV0pu"
      }
    },
    {
      "cell_type": "code",
      "source": [
        "print(\"nama:Deo trisdian saputra\")\n",
        "print(\"kelas:X.7\")\n",
        "print(\"nomor absen:8\")"
      ],
      "metadata": {
        "colab": {
          "base_uri": "https://localhost:8080/"
        },
        "id": "HKgyoOcvV5wq",
        "outputId": "01db1c4d-7e95-499b-f691-a24510f16a8d"
      },
      "execution_count": null,
      "outputs": [
        {
          "output_type": "stream",
          "name": "stdout",
          "text": [
            "nama:Deo trisdian saputra\n",
            "kelas:X.7\n",
            "nomor absen:8\n"
          ]
        }
      ]
    },
    {
      "cell_type": "code",
      "source": [
        "print(\"nama\\t\\t: Deo trisdian saputra\\nKelas\\t\\t:X.7\\nNomor absent\\t:8\")"
      ],
      "metadata": {
        "colab": {
          "base_uri": "https://localhost:8080/"
        },
        "id": "oAfGg4NhWkrE",
        "outputId": "c2dd7233-f692-4977-ba39-12533c04e7d2"
      },
      "execution_count": null,
      "outputs": [
        {
          "output_type": "stream",
          "name": "stdout",
          "text": [
            "nama\t\t: Deo trisdian saputra\n",
            "Kelas\t\t:X.7\n",
            "Nomor absent\t:8\n"
          ]
        }
      ]
    },
    {
      "cell_type": "code",
      "source": [
        "print(\"\"\"nama:Deo trisdian saputra\n",
        "Kelas:X.7\n",
        "Nomor absen:8\"\"\")"
      ],
      "metadata": {
        "colab": {
          "base_uri": "https://localhost:8080/"
        },
        "id": "DKxe5zvAXtyA",
        "outputId": "7cc1e89f-8bd8-4642-8db3-734611a5cff3"
      },
      "execution_count": null,
      "outputs": [
        {
          "output_type": "stream",
          "name": "stdout",
          "text": [
            "nama:Deo trisdian saputra\n",
            "Kelas:X.7\n",
            "Nomor absen:8\n"
          ]
        }
      ]
    },
    {
      "cell_type": "code",
      "source": [
        "print(\"nama: Habib Jafar\")"
      ],
      "metadata": {
        "colab": {
          "base_uri": "https://localhost:8080/"
        },
        "id": "ZxGvd1_lR5Ie",
        "outputId": "32e4f24b-27fb-4a46-e1d8-aef3ac1a289a"
      },
      "execution_count": null,
      "outputs": [
        {
          "output_type": "stream",
          "name": "stdout",
          "text": [
            "nama: Habib Jafar\n"
          ]
        }
      ]
    },
    {
      "cell_type": "code",
      "source": [
        "print('nama:habib jafar')"
      ],
      "metadata": {
        "colab": {
          "base_uri": "https://localhost:8080/"
        },
        "id": "dpOyOQ0aSkNY",
        "outputId": "0d92b7b2-f35a-4600-c059-316459464c29"
      },
      "execution_count": null,
      "outputs": [
        {
          "output_type": "stream",
          "name": "stdout",
          "text": [
            "nama:habib jafar\n"
          ]
        }
      ]
    },
    {
      "cell_type": "code",
      "source": [
        "print ('nama::habib ja\\'far')"
      ],
      "metadata": {
        "colab": {
          "base_uri": "https://localhost:8080/"
        },
        "id": "FFy2HcrRStGd",
        "outputId": "eab10592-3593-455f-e1f8-353f090e29d0"
      },
      "execution_count": null,
      "outputs": [
        {
          "output_type": "stream",
          "name": "stdout",
          "text": [
            "nama::habib ja'far\n"
          ]
        }
      ]
    },
    {
      "cell_type": "code",
      "source": [
        "print(\"nama:habib ja'far\")"
      ],
      "metadata": {
        "colab": {
          "base_uri": "https://localhost:8080/"
        },
        "id": "aNdGQqvDS-z8",
        "outputId": "fa8e70d1-3049-4a51-9a9e-c4d24da68cd9"
      },
      "execution_count": null,
      "outputs": [
        {
          "output_type": "stream",
          "name": "stdout",
          "text": [
            "nama:habib ja'far\n"
          ]
        }
      ]
    },
    {
      "cell_type": "code",
      "source": [
        "print(\"bu shinta berkata"
      ],
      "metadata": {
        "id": "PLc_B5H2TK7O"
      },
      "execution_count": null,
      "outputs": []
    },
    {
      "cell_type": "code",
      "source": [
        "print(\"bu shinta berkata,\\\"tenang fokus sejenak! \\\".\")"
      ],
      "metadata": {
        "colab": {
          "base_uri": "https://localhost:8080/"
        },
        "id": "_0k7yKlgYiCi",
        "outputId": "90bbc4d5-868a-448d-dc65-fac129ee86ef"
      },
      "execution_count": null,
      "outputs": [
        {
          "output_type": "stream",
          "name": "stdout",
          "text": [
            "bu shinta berkata,\"tenang fokus sejenak! \".\n"
          ]
        }
      ]
    },
    {
      "cell_type": "code",
      "source": [
        "print('bu shinta berkata,\"tenang fokus sejenak! \".')"
      ],
      "metadata": {
        "colab": {
          "base_uri": "https://localhost:8080/"
        },
        "id": "C0ha8TcuY3AK",
        "outputId": "e7a49531-02b6-4155-d752-a34bc7f580f0"
      },
      "execution_count": null,
      "outputs": [
        {
          "output_type": "stream",
          "name": "stdout",
          "text": [
            "bu shinta berkata,\"tenang fokus sejenak! \".\n"
          ]
        }
      ]
    },
    {
      "cell_type": "code",
      "source": [
        "print(\"lokasi penyimpanan tugas KKA ada di local disk D:\\\\KKA\\\\tugas\")"
      ],
      "metadata": {
        "colab": {
          "base_uri": "https://localhost:8080/"
        },
        "id": "jzCub1N9ZTmY",
        "outputId": "2307e164-e8ae-4897-9c30-f9da2efdf49f"
      },
      "execution_count": null,
      "outputs": [
        {
          "output_type": "stream",
          "name": "stdout",
          "text": [
            "lokasi penyimpanan tugas KKA ada di local disk D:\\KKA\\tugas\n"
          ]
        }
      ]
    },
    {
      "cell_type": "code",
      "source": [
        "Tanggal = 18\n",
        "Bulan = \"februari\"\n",
        "Tahun = 2000\n",
        "\n",
        "#18-februari-2000\n",
        "print(Tanggal)\n",
        "print(Bulan)\n",
        "print(Tahun)"
      ],
      "metadata": {
        "colab": {
          "base_uri": "https://localhost:8080/"
        },
        "id": "n1F8x6osV08Z",
        "outputId": "44b40d29-88b5-4e09-bc67-9cc51ad62d46"
      },
      "execution_count": null,
      "outputs": [
        {
          "output_type": "stream",
          "name": "stdout",
          "text": [
            "18\n",
            "februari\n",
            "2000\n"
          ]
        }
      ]
    },
    {
      "cell_type": "code",
      "source": [
        "#18-Februari-2000\n",
        "print(Tanggal, Bulan, Tahun, sep=\"-\")"
      ],
      "metadata": {
        "colab": {
          "base_uri": "https://localhost:8080/"
        },
        "id": "X5np1_3rW_cU",
        "outputId": "181bc083-cb74-46f3-9499-6430295a9972"
      },
      "execution_count": null,
      "outputs": [
        {
          "output_type": "stream",
          "name": "stdout",
          "text": [
            "18-februari-2000\n"
          ]
        }
      ]
    },
    {
      "cell_type": "code",
      "source": [
        "#18-Februari-2000\n",
        "print(Tanggal, end=\"-\")\n",
        "print(Bulan, end=\"-\")\n",
        "print(Tahun)"
      ],
      "metadata": {
        "colab": {
          "base_uri": "https://localhost:8080/"
        },
        "id": "QK68dE3lXPxW",
        "outputId": "5014073f-71b7-4048-996c-1bb89507d651"
      },
      "execution_count": null,
      "outputs": [
        {
          "output_type": "stream",
          "name": "stdout",
          "text": [
            "18-februari-2000\n"
          ]
        }
      ]
    }
  ]
}